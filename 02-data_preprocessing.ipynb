{
 "cells": [
  {
   "cell_type": "markdown",
   "metadata": {},
   "source": [
    "# Data Preprocessing\n",
    "\n",
    "This notebook converts categorical string columns in the dataset into ordinal number columns and creates 3 different splits out of the resulting data."
   ]
  },
  {
   "cell_type": "code",
   "execution_count": 1,
   "metadata": {},
   "outputs": [],
   "source": [
    "%load_ext autoreload\n",
    "%autoreload 2\n",
    "%matplotlib inline"
   ]
  },
  {
   "cell_type": "code",
   "execution_count": 2,
   "metadata": {},
   "outputs": [],
   "source": [
    "from lib.definitions import RANDOM_SEED, numerical_column_names, categorical_column_names, binary_column_names\n",
    "from lib.definitions import RAW_TRAINING_DATA, PROCESSED_DATA_OUTPUT_PATH, SPLITS_BASE_PATH"
   ]
  },
  {
   "cell_type": "code",
   "execution_count": 3,
   "metadata": {},
   "outputs": [],
   "source": [
    "RANDOM_SEED = 42\n",
    "\n",
    "import random\n",
    "random.seed(RANDOM_SEED)\n",
    "\n",
    "import numpy.random\n",
    "numpy.random.seed(RANDOM_SEED)\n",
    "\n",
    "import os\n",
    "os.environ['PYTHONHASHSEED']=str(RANDOM_SEED)\n",
    "\n",
    "import tensorflow\n",
    "tensorflow.set_random_seed(RANDOM_SEED)"
   ]
  },
  {
   "cell_type": "code",
   "execution_count": 4,
   "metadata": {},
   "outputs": [],
   "source": [
    "import joblib\n",
    "import pandas as pd\n",
    "from pathlib import Path\n",
    "from sklearn.preprocessing import LabelEncoder\n",
    "from sklearn.model_selection import StratifiedKFold"
   ]
  },
  {
   "cell_type": "code",
   "execution_count": 5,
   "metadata": {},
   "outputs": [],
   "source": [
    "SPLITS_BASE_PATH.mkdir(parents=True, exist_ok=True) \n",
    "assert RAW_TRAINING_DATA.exists()"
   ]
  },
  {
   "cell_type": "markdown",
   "metadata": {},
   "source": [
    "## 1. Load Data"
   ]
  },
  {
   "cell_type": "code",
   "execution_count": 6,
   "metadata": {},
   "outputs": [],
   "source": [
    "from lib.definitions import column_definitions"
   ]
  },
  {
   "cell_type": "code",
   "execution_count": 7,
   "metadata": {},
   "outputs": [],
   "source": [
    "df_train = pd.read_csv(RAW_TRAINING_DATA, sep=' ', names=column_definitions)"
   ]
  },
  {
   "cell_type": "markdown",
   "metadata": {},
   "source": [
    "Change encoding of female/male from 1/2 to 0/1 and save resulting data as csv"
   ]
  },
  {
   "cell_type": "code",
   "execution_count": 8,
   "metadata": {},
   "outputs": [],
   "source": [
    "df_train['heart_disease'] = df_train['heart_disease'] - 1\n",
    "df_train.to_csv(PROCESSED_DATA_OUTPUT_PATH / 'heart.csv', index=False)"
   ]
  },
  {
   "cell_type": "markdown",
   "metadata": {},
   "source": [
    "## 2. Create Splits"
   ]
  },
  {
   "cell_type": "code",
   "execution_count": 9,
   "metadata": {},
   "outputs": [],
   "source": [
    "splitter = StratifiedKFold(n_splits=3, random_state=RANDOM_SEED, shuffle=True, )\n",
    "\n",
    "df_training_features = df_train.drop('heart_disease', axis=1)\n",
    "df_training_labels = df_train['heart_disease']\n",
    "\n",
    "for i, (train_index, val_index) in enumerate(splitter.split(df_training_features, df_training_labels)):\n",
    "    df_split_training_features = df_training_features.iloc[train_index, :]\n",
    "    df_split_training_labels = df_training_labels.iloc[train_index]\n",
    "    \n",
    "    df_split_validation_features = df_training_features.iloc[val_index, :]\n",
    "    df_split_validation_labels = df_training_labels.iloc[val_index]\n",
    "    \n",
    "    split_path = SPLITS_BASE_PATH / str(i + 1)\n",
    "    split_path.mkdir(parents=True, exist_ok=True)\n",
    "    \n",
    "    df_split_training_features.to_csv(split_path / 'train_values.csv', index=False, header=True)\n",
    "    df_split_training_labels.to_csv(split_path / 'train_labels.csv', index=False, header=True)\n",
    "    \n",
    "    df_split_validation_features.to_csv(split_path / 'val_values.csv', index=False, header=True)\n",
    "    df_split_validation_labels.to_csv(split_path / 'val_labels.csv', index=False, header=True)"
   ]
  }
 ],
 "metadata": {
  "kernelspec": {
   "display_name": "Python 3",
   "language": "python",
   "name": "python3"
  },
  "language_info": {
   "codemirror_mode": {
    "name": "ipython",
    "version": 3
   },
   "file_extension": ".py",
   "mimetype": "text/x-python",
   "name": "python",
   "nbconvert_exporter": "python",
   "pygments_lexer": "ipython3",
   "version": "3.6.8"
  }
 },
 "nbformat": 4,
 "nbformat_minor": 2
}
